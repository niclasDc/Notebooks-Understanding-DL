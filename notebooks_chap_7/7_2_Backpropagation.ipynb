{
 "nbformat": 4,
 "nbformat_minor": 0,
 "metadata": {
  "colab": {
   "provenance": [],
   "authorship_tag": "ABX9TyM2kkHLr00J4Jeypw41sTkQ",
   "include_colab_link": true
  },
  "kernelspec": {
   "name": "python3",
   "display_name": "Python 3 (ipykernel)",
   "language": "python"
  },
  "language_info": {
   "name": "python"
  }
 },
 "cells": [
  {
   "cell_type": "markdown",
   "source": [
    "# **Notebook 7.2: Backpropagation**\n",
    "\n",
    "This notebook runs the backpropagation algorithm on a deep neural network as described in section 7.4 of the book.\n",
    "\n",
    "Work through the cells below, running each cell in turn. In various places you will see the words \"TO DO\". Follow the instructions at these places and make predictions about what is going to happen or write code to complete the functions.\n",
    "\n",
    "Contact me at udlbookmail@gmail.com if you find any mistakes or have any suggestions."
   ],
   "metadata": {
    "id": "L6chybAVFJW2"
   }
  },
  {
   "cell_type": "code",
   "metadata": {
    "id": "LdIDglk1FFcG",
    "ExecuteTime": {
     "end_time": "2024-04-06T23:53:23.370728Z",
     "start_time": "2024-04-06T23:53:23.365188Z"
    }
   },
   "source": [
    "import numpy as np\n",
    "import matplotlib.pyplot as plt"
   ],
   "outputs": [],
   "execution_count": 84
  },
  {
   "cell_type": "markdown",
   "source": [
    "First let's define a neural network.  We'll just choose the weights and biases randomly for now"
   ],
   "metadata": {
    "id": "nnUoI0m6GyjC"
   }
  },
  {
   "cell_type": "code",
   "source": [
    "# Set seed so we always get the same random numbers\n",
    "np.random.seed(0)\n",
    "\n",
    "# Number of layers\n",
    "K = 5\n",
    "# Number of neurons per layer\n",
    "D = 6\n",
    "# Input layer\n",
    "D_i = 1\n",
    "# Output layer\n",
    "D_o = 1\n",
    "\n",
    "# Make empty lists\n",
    "all_weights = [None] * (K + 1)\n",
    "all_biases = [None] * (K + 1)\n",
    "\n",
    "# Create input and output layers\n",
    "all_weights[0] = np.random.normal(size=(D, D_i))\n",
    "all_weights[-1] = np.random.normal(size=(D_o, D))\n",
    "all_biases[0] = np.random.normal(size=(D, 1))\n",
    "all_biases[-1] = np.random.normal(size=(D_o, 1))\n",
    "\n",
    "# Create intermediate layers\n",
    "for layer in range(1, K):\n",
    "    all_weights[layer] = np.random.normal(size=(D, D))\n",
    "    all_biases[layer] = np.random.normal(size=(D, 1))"
   ],
   "metadata": {
    "id": "WVM4Tc_jGI0Q",
    "ExecuteTime": {
     "end_time": "2024-04-06T23:53:23.458026Z",
     "start_time": "2024-04-06T23:53:23.447792Z"
    }
   },
   "outputs": [],
   "execution_count": 85
  },
  {
   "cell_type": "code",
   "source": [
    "# Define the Rectified Linear Unit (ReLU) function\n",
    "def ReLU(preactivation):\n",
    "    activation = preactivation.clip(0.0)\n",
    "    return activation"
   ],
   "metadata": {
    "id": "jZh-7bPXIDq4",
    "ExecuteTime": {
     "end_time": "2024-04-06T23:53:23.492212Z",
     "start_time": "2024-04-06T23:53:23.487088Z"
    }
   },
   "outputs": [],
   "execution_count": 86
  },
  {
   "cell_type": "markdown",
   "source": [
    "Now let's run our random network.  The weight matrices $\\boldsymbol\\Omega_{1\\ldots K}$ are the entries of the list \"all_weights\" and the biases $\\boldsymbol\\beta_{1\\ldots K}$ are the entries of the list \"all_biases\"\n",
    "\n",
    "We know that we will need the preactivations $\\mathbf{f}_{0\\ldots K}$ and the activations $\\mathbf{h}_{1\\ldots K}$ for the forward pass of backpropagation, so we'll store and return these as well.\n"
   ],
   "metadata": {
    "id": "5irtyxnLJSGX"
   }
  },
  {
   "cell_type": "code",
   "source": [
    "def compute_network_output(net_input, all_weights, all_biases):\n",
    "    # Retrieve number of layers\n",
    "    K = len(all_weights) - 1\n",
    "\n",
    "    # We'll store the pre-activations at each layer in a list \"all_f\"\n",
    "    # and the activations in a second list \"all_h\".\n",
    "    all_f = [None] * (K + 1)\n",
    "    all_h = [None] * (K + 1)\n",
    "\n",
    "    #For convenience, we'll set\n",
    "    # all_h[0] to be the input, and all_f[K] will be the output\n",
    "    all_h[0] = net_input\n",
    "\n",
    "    # Run through the layers, calculating all_f[0...K-1] and all_h[1...K]\n",
    "    for layer in range(K):\n",
    "        # Update preactivations and activations at this layer according to eqn 7.16\n",
    "        # Remember to use np.matmul for matrix multiplications\n",
    "        # TODO -- Replace the lines below\n",
    "        all_f[layer] = all_biases[layer] + np.matmul(all_weights[layer], all_h[layer])\n",
    "        all_h[layer + 1] = ReLU(all_f[layer])\n",
    "\n",
    "    # Compute the output from the last hidden layer\n",
    "    # TODO -- Replace the line below\n",
    "    all_f[K] = all_biases[K] + np.matmul(all_weights[K], all_h[K])\n",
    "\n",
    "    # Retrieve the output\n",
    "    net_output = all_f[K]\n",
    "\n",
    "    return net_output, all_f, all_h"
   ],
   "metadata": {
    "id": "LgquJUJvJPaN",
    "ExecuteTime": {
     "end_time": "2024-04-06T23:53:23.605620Z",
     "start_time": "2024-04-06T23:53:23.599556Z"
    }
   },
   "outputs": [],
   "execution_count": 87
  },
  {
   "cell_type": "code",
   "source": [
    "# Define input\n",
    "net_input = np.ones((D_i, 1)) * 1.2\n",
    "# Compute network output\n",
    "net_output, all_f, all_h = compute_network_output(net_input, all_weights, all_biases)\n",
    "print(\"True output = %3.3f, Your answer = %3.3f\" % (1.907, net_output[0, 0]))"
   ],
   "metadata": {
    "id": "IN6w5m2ZOhnB",
    "ExecuteTime": {
     "end_time": "2024-04-06T23:53:23.634891Z",
     "start_time": "2024-04-06T23:53:23.626683Z"
    }
   },
   "outputs": [
    {
     "name": "stdout",
     "output_type": "stream",
     "text": [
      "True output = 1.907, Your answer = 1.907\n"
     ]
    }
   ],
   "execution_count": 88
  },
  {
   "cell_type": "markdown",
   "source": [
    "Now let's define a loss function.  We'll just use the least squares loss function. We'll also write a function to compute dloss_doutput"
   ],
   "metadata": {
    "id": "SxVTKp3IcoBF"
   }
  },
  {
   "cell_type": "code",
   "source": [
    "def least_squares_loss(net_output, y):\n",
    "    return np.sum((net_output - y) * (net_output - y))\n",
    "\n",
    "\n",
    "def d_loss_d_output(net_output, y):\n",
    "    return 2 * (net_output - y)"
   ],
   "metadata": {
    "id": "6XqWSYWJdhQR",
    "ExecuteTime": {
     "end_time": "2024-04-06T23:53:23.665660Z",
     "start_time": "2024-04-06T23:53:23.657962Z"
    }
   },
   "outputs": [],
   "execution_count": 89
  },
  {
   "cell_type": "code",
   "source": [
    "y = np.ones((D_o, 1)) * 20.0\n",
    "loss = least_squares_loss(net_output, y)\n",
    "print(f\"y = {y[0, 0]: 3.3f} Loss = {loss: 3.3f}\")"
   ],
   "metadata": {
    "id": "njF2DUQmfttR",
    "ExecuteTime": {
     "end_time": "2024-04-06T23:53:23.744669Z",
     "start_time": "2024-04-06T23:53:23.736887Z"
    }
   },
   "outputs": [
    {
     "name": "stdout",
     "output_type": "stream",
     "text": [
      "y =  20.000 Loss =  327.371\n"
     ]
    }
   ],
   "execution_count": 90
  },
  {
   "cell_type": "markdown",
   "source": [
    "Now let's compute the derivatives of the network.  We already computed the forward pass.  Let's compute the backward pass."
   ],
   "metadata": {
    "id": "98WmyqFYWA-0"
   }
  },
  {
   "cell_type": "code",
   "source": [
    "# We'll need the indicator function\n",
    "def indicator_function(x):\n",
    "    x_in = np.array(x)\n",
    "    x_in[x_in >= 0] = 1\n",
    "    x_in[x_in < 0] = 0\n",
    "    return x_in\n",
    "\n",
    "\n",
    "# Main backward pass routine\n",
    "def backward_pass(all_weights, all_biases, all_f, all_h, y):\n",
    "    # We'll store the derivatives dl_dweights and dl_dbiases in lists as well\n",
    "    all_dl_dweights = [None] * (K + 1)\n",
    "    all_dl_dbiases = [None] * (K + 1)\n",
    "    # And we'll store the derivatives of the loss with respect to the activation and preactivations in lists\n",
    "    all_dl_df = [None] * (K + 1)\n",
    "    all_dl_dh = [None] * (K + 1)\n",
    "    # Again for convenience we'll stick with the convention that all_h[0] is the net input and all_f[k] in the net output\n",
    "\n",
    "    # Compute derivatives of the loss with respect to the network output\n",
    "    all_dl_df[K] = np.array(d_loss_d_output(all_f[K], y))\n",
    "\n",
    "    # Now work backwards through the network\n",
    "    for layer in range(K, -1, -1):\n",
    "        # TODO Calculate the derivatives of the loss with respect to the biases at layer from all_dl_df[layer]. (eq 7.21)\n",
    "        # NOTE!  To take a copy of matrix X, use Z=np.array(X)\n",
    "        # REPLACE THIS LINE\n",
    "\n",
    "        all_dl_dbiases[layer] = all_dl_df[layer]\n",
    "\n",
    "        # TODO Calculate the derivatives of the loss with respect to the weights at layer from all_dl_df[layer] and all_h[layer] (eq 7.22)\n",
    "        # Don't forget to use np.matmul\n",
    "        # REPLACE THIS LINE\n",
    "        all_h_copy = np.array(all_h[layer])\n",
    "        all_dl_dweights[layer] = np.matmul(all_dl_df[layer], np.transpose(all_h_copy))\n",
    "\n",
    "        # TODO: calculate the derivatives of the loss with respect to the activations from weight and derivatives of next preactivations (second part of last line of eq 7.24)\n",
    "        # REPLACE THIS LINE\n",
    "        all_weights_copy = all_weights[layer]\n",
    "        all_dl_dh[layer] = np.matmul(np.transpose(all_weights_copy), all_dl_df[layer])\n",
    "\n",
    "        if layer > 0:\n",
    "            # TODO Calculate the derivatives of the loss with respect to the pre-activation f (use derivative of ReLu function, first part of last line of eq. 7.24)\n",
    "            # REPLACE THIS LINE\n",
    "            all_dl_df[layer - 1] = np.multiply(indicator_function(ReLU(all_f[layer])), all_dl_dh[layer])\n",
    "\n",
    "    return all_dl_dweights, all_dl_dbiases"
   ],
   "metadata": {
    "id": "LJng7WpRPLMz",
    "ExecuteTime": {
     "end_time": "2024-04-06T23:53:23.780755Z",
     "start_time": "2024-04-06T23:53:23.768739Z"
    }
   },
   "outputs": [],
   "execution_count": 91
  },
  {
   "cell_type": "code",
   "source": [
    "all_dl_dweights, all_dl_dbiases = backward_pass(all_weights, all_biases, all_f, all_h, y)"
   ],
   "metadata": {
    "id": "9A9MHc4sQvbp",
    "ExecuteTime": {
     "end_time": "2024-04-06T23:53:23.842835Z",
     "start_time": "2024-04-06T23:53:23.836937Z"
    }
   },
   "outputs": [],
   "execution_count": 92
  },
  {
   "cell_type": "code",
   "source": [
    "np.set_printoptions(precision=3)\n",
    "# Make space for derivatives computed by finite differences\n",
    "all_dl_dweights_fd = [None] * (K + 1)\n",
    "all_dl_dbiases_fd = [None] * (K + 1)\n",
    "\n",
    "# Let's test if we have the derivatives right using finite differences\n",
    "delta_fd = 0.000001\n",
    "\n",
    "# Test the derivatives of the bias vectors\n",
    "for layer in range(K):\n",
    "    dl_dbias = np.zeros_like(all_dl_dbiases[layer])\n",
    "    # For every element in the bias\n",
    "    for row in range(all_biases[layer].shape[0]):\n",
    "        # Take a copy of biases We'll change one element each time\n",
    "        all_biases_copy = [np.array(x) for x in all_biases]\n",
    "        all_biases_copy[layer][row] += delta_fd\n",
    "        network_output_1, *_ = compute_network_output(net_input, all_weights, all_biases_copy)\n",
    "        network_output_2, *_ = compute_network_output(net_input, all_weights, all_biases)\n",
    "        dl_dbias[row] = (least_squares_loss(network_output_1, y) - least_squares_loss(network_output_2, y)) / delta_fd\n",
    "    all_dl_dbiases_fd[layer] = np.array(dl_dbias)\n",
    "    print(\"-----------------------------------------------\")\n",
    "    print(\"Bias %d, derivatives from backprop:\" % (layer))\n",
    "    print(all_dl_dbiases[layer])\n",
    "    print(\"Bias %d, derivatives from finite differences\" % (layer))\n",
    "    print(all_dl_dbiases_fd[layer])\n",
    "    if np.allclose(all_dl_dbiases_fd[layer], all_dl_dbiases[layer], rtol=1e-05, atol=1e-08, equal_nan=False):\n",
    "        print(\"Success!  Derivatives match.\")\n",
    "    else:\n",
    "        print(\"Failure!  Derivatives different.\")\n",
    "\n",
    "# Test the derivatives of the weights matrices\n",
    "for layer in range(K):\n",
    "    dl_dweight = np.zeros_like(all_dl_dweights[layer])\n",
    "    # For every element in the bias\n",
    "    for row in range(all_weights[layer].shape[0]):\n",
    "        for col in range(all_weights[layer].shape[1]):\n",
    "            # Take a copy of biases We'll change one element each time\n",
    "            all_weights_copy = [np.array(x) for x in all_weights]\n",
    "            all_weights_copy[layer][row][col] += delta_fd\n",
    "            network_output_1, *_ = compute_network_output(net_input, all_weights_copy, all_biases)\n",
    "            network_output_2, *_ = compute_network_output(net_input, all_weights, all_biases)\n",
    "            dl_dweight[row][col] = (least_squares_loss(network_output_1, y) - least_squares_loss(network_output_2,\n",
    "                                                                                                 y)) / delta_fd\n",
    "    all_dl_dweights_fd[layer] = np.array(dl_dweight)\n",
    "    print(\"-----------------------------------------------\")\n",
    "    print(\"Weight %d, derivatives from backprop:\" % (layer))\n",
    "    print(all_dl_dweights[layer])\n",
    "    print(\"Weight %d, derivatives from finite differences\" % (layer))\n",
    "    print(all_dl_dweights_fd[layer])\n",
    "    if np.allclose(all_dl_dweights_fd[layer], all_dl_dweights[layer], rtol=1e-05, atol=1e-08, equal_nan=False):\n",
    "        print(\"Success!  Derivatives match.\")\n",
    "    else:\n",
    "        print(\"Failure!  Derivatives different.\")"
   ],
   "metadata": {
    "id": "PK-UtE3hreAK",
    "ExecuteTime": {
     "end_time": "2024-04-06T23:53:23.924946Z",
     "start_time": "2024-04-06T23:53:23.875924Z"
    }
   },
   "outputs": [
    {
     "name": "stdout",
     "output_type": "stream",
     "text": [
      "-----------------------------------------------\n",
      "Bias 0, derivatives from backprop:\n",
      "[[-236.7  ]\n",
      " [ 221.706]\n",
      " [ 890.321]\n",
      " [ 407.203]\n",
      " [ 605.983]\n",
      " [-316.688]]\n",
      "Bias 0, derivatives from finite differences\n",
      "[[ -4.486]\n",
      " [  4.947]\n",
      " [  6.812]\n",
      " [ -3.883]\n",
      " [-24.935]\n",
      " [  0.   ]]\n",
      "Failure!  Derivatives different.\n",
      "-----------------------------------------------\n",
      "Bias 1, derivatives from backprop:\n",
      "[[  90.841]\n",
      " [ 113.763]\n",
      " [-459.807]\n",
      " [-223.554]\n",
      " [ 222.041]\n",
      " [ -74.577]]\n",
      "Bias 1, derivatives from finite differences\n",
      "[[  0.   ]\n",
      " [-11.297]\n",
      " [  0.   ]\n",
      " [  0.   ]\n",
      " [-10.722]\n",
      " [  0.   ]]\n",
      "Failure!  Derivatives different.\n",
      "-----------------------------------------------\n",
      "Bias 2, derivatives from backprop:\n",
      "[[  33.233]\n",
      " [ 244.522]\n",
      " [  79.788]\n",
      " [-131.861]\n",
      " [ 187.691]\n",
      " [-212.919]]\n",
      "Bias 2, derivatives from finite differences\n",
      "[[ 0.   ]\n",
      " [ 0.   ]\n",
      " [ 0.938]\n",
      " [ 0.   ]\n",
      " [-9.993]\n",
      " [ 0.508]]\n",
      "Failure!  Derivatives different.\n",
      "-----------------------------------------------\n",
      "Bias 3, derivatives from backprop:\n",
      "[[-65.943]\n",
      " [ 78.706]\n",
      " [-22.485]\n",
      " [ 77.21 ]\n",
      " [ 44.869]\n",
      " [ 18.431]]\n",
      "Bias 3, derivatives from finite differences\n",
      "[[ 0.   ]\n",
      " [-4.8  ]\n",
      " [-1.661]\n",
      " [ 0.   ]\n",
      " [ 3.393]\n",
      " [ 5.391]]\n",
      "Failure!  Derivatives different.\n",
      "-----------------------------------------------\n",
      "Bias 4, derivatives from backprop:\n",
      "[[-34.381]\n",
      " [  5.477]\n",
      " [  3.735]\n",
      " [-14.858]\n",
      " [ -5.212]\n",
      " [-52.625]]\n",
      "Bias 4, derivatives from finite differences\n",
      "[[ 0.   ]\n",
      " [ 0.   ]\n",
      " [ 0.   ]\n",
      " [ 0.   ]\n",
      " [-5.212]\n",
      " [ 0.   ]]\n",
      "Failure!  Derivatives different.\n",
      "-----------------------------------------------\n",
      "Weight 0, derivatives from backprop:\n",
      "[[-284.04 ]\n",
      " [ 266.048]\n",
      " [1068.385]\n",
      " [ 488.643]\n",
      " [ 727.18 ]\n",
      " [-380.026]]\n",
      "Weight 0, derivatives from finite differences\n",
      "[[ -5.383]\n",
      " [  5.937]\n",
      " [  8.174]\n",
      " [ -4.66 ]\n",
      " [-29.922]\n",
      " [  0.   ]]\n",
      "Failure!  Derivatives different.\n",
      "-----------------------------------------------\n",
      "Weight 1, derivatives from backprop:\n",
      "[[  261.431    54.674   147.012   274.589   339.304     0.   ]\n",
      " [  327.398    68.47    184.108   343.876   424.921     0.   ]\n",
      " [-1323.278  -276.741  -744.128 -1389.879 -1717.446     0.   ]\n",
      " [ -643.367  -134.549  -361.789  -675.747  -835.008     0.   ]\n",
      " [  639.012   133.638   359.34    671.173   829.356     0.   ]\n",
      " [ -214.626   -44.885  -120.692  -225.429  -278.558     0.   ]]\n",
      "Weight 1, derivatives from finite differences\n",
      "[[  0.      0.      0.      0.      0.      0.   ]\n",
      " [-32.511  -6.799 -18.282 -34.148 -42.196   0.   ]\n",
      " [  0.      0.      0.      0.      0.      0.   ]\n",
      " [  0.      0.      0.      0.      0.      0.   ]\n",
      " [-30.856  -6.453 -17.352 -32.409 -40.047   0.   ]\n",
      " [  0.      0.      0.      0.      0.      0.   ]]\n",
      "Failure!  Derivatives different.\n",
      "-----------------------------------------------\n",
      "Weight 2, derivatives from backprop:\n",
      "[[    0.      190.329     0.        0.      111.426     0.   ]\n",
      " [    0.     1400.398     0.        0.      819.847     0.   ]\n",
      " [    0.      456.951     0.        0.      267.517     0.   ]\n",
      " [    0.     -755.181     0.        0.     -442.112     0.   ]\n",
      " [    0.     1074.921     0.        0.      629.301     0.   ]\n",
      " [    0.    -1219.404     0.        0.     -713.886     0.   ]]\n",
      "Weight 2, derivatives from finite differences\n",
      "[[  0.      0.      0.      0.      0.      0.   ]\n",
      " [  0.      0.      0.      0.      0.      0.   ]\n",
      " [  0.      5.371   0.      0.      3.145   0.   ]\n",
      " [  0.      0.      0.      0.      0.      0.   ]\n",
      " [  0.    -57.233   0.      0.    -33.506   0.   ]\n",
      " [  0.      2.907   0.      0.      1.702   0.   ]]\n",
      "Failure!  Derivatives different.\n",
      "-----------------------------------------------\n",
      "Weight 3, derivatives from backprop:\n",
      "[[   0.       0.     -50.475    0.    -589.445 -151.1  ]\n",
      " [   0.       0.      60.244    0.     703.525  180.344]\n",
      " [   0.       0.     -17.211    0.    -200.984  -51.521]\n",
      " [   0.       0.      59.099    0.     690.154  176.916]\n",
      " [   0.       0.      34.344    0.     401.067  102.811]\n",
      " [   0.       0.      14.108    0.     164.75    42.233]]\n",
      "Weight 3, derivatives from finite differences\n",
      "[[  0.      0.      0.      0.      0.      0.   ]\n",
      " [  0.      0.     -3.674   0.    -42.905 -10.998]\n",
      " [  0.      0.     -1.272   0.    -14.85   -3.807]\n",
      " [  0.      0.      0.      0.      0.      0.   ]\n",
      " [  0.      0.      2.597   0.     30.333   7.776]\n",
      " [  0.      0.      4.126   0.     48.188  12.353]]\n",
      "Failure!  Derivatives different.\n",
      "-----------------------------------------------\n",
      "Weight 4, derivatives from backprop:\n",
      "[[   0.    -538.454 -324.091    0.    -145.153  -66.918]\n",
      " [   0.      85.78    51.63     0.      23.124   10.661]\n",
      " [   0.      58.498   35.21     0.      15.77     7.27 ]\n",
      " [   0.    -232.703 -140.062    0.     -62.73   -28.92 ]\n",
      " [   0.     -81.635  -49.136    0.     -22.007  -10.146]\n",
      " [   0.    -824.197 -496.076    0.    -222.181 -102.43 ]]\n",
      "Weight 4, derivatives from finite differences\n",
      "[[  0.      0.      0.      0.      0.      0.   ]\n",
      " [  0.      0.      0.      0.      0.      0.   ]\n",
      " [  0.      0.      0.      0.      0.      0.   ]\n",
      " [  0.      0.      0.      0.      0.      0.   ]\n",
      " [  0.    -81.635 -49.136   0.    -22.007 -10.146]\n",
      " [  0.      0.      0.      0.      0.      0.   ]]\n",
      "Failure!  Derivatives different.\n"
     ]
    }
   ],
   "execution_count": 93
  }
 ]
}
