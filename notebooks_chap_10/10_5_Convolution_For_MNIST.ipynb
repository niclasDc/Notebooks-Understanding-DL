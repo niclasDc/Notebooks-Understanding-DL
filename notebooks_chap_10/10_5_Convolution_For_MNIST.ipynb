{
  "cells": [
    {
      "cell_type": "markdown",
      "metadata": {
        "id": "t9vk9Elugvmi"
      },
      "source": [
        "# **Notebook 10.5: Convolution for MNIST**\n",
        "\n",
        "This notebook builds a proper network for 2D convolution.  It works with the MNIST dataset (figure 15.15a), which was the original classic dataset for classifying images.  The network will take a 28x28 grayscale image and classify it into one of 10 classes representing a digit.\n",
        "\n",
        "The code is adapted from https://nextjournal.com/gkoehler/pytorch-mnist\n",
        "\n",
        "Work through the cells below, running each cell in turn. In various places you will see the words \"TO DO\". Follow the instructions at these places and make predictions about what is going to happen or write code to complete the functions.\n",
        "\n",
        "Contact me at udlbookmail@gmail.com if you find any mistakes or have any suggestions.\n"
      ]
    },
    {
      "cell_type": "code",
      "execution_count": 6,
      "metadata": {
        "id": "YrXWAH7sUWvU"
      },
      "outputs": [],
      "source": [
        "import torch\n",
        "import torchvision\n",
        "import torch.nn as nn\n",
        "import torch.nn.functional as F\n",
        "import torch.optim as optim\n",
        "import matplotlib.pyplot as plt\n",
        "import random\n",
        "import os"
      ]
    },
    {
      "cell_type": "code",
      "execution_count": 9,
      "metadata": {
        "id": "wScBGXXFVadm"
      },
      "outputs": [
        {
          "name": "stdout",
          "output_type": "stream",
          "text": [
            "Downloading http://yann.lecun.com/exdb/mnist/train-images-idx3-ubyte.gz\n",
            "Failed to download (trying next):\n",
            "HTTP Error 403: Forbidden\n",
            "\n",
            "Downloading https://ossci-datasets.s3.amazonaws.com/mnist/train-images-idx3-ubyte.gz\n",
            "Downloading https://ossci-datasets.s3.amazonaws.com/mnist/train-images-idx3-ubyte.gz to /home/niclasalv/proyects/Notebooks-Understanding-DL/notebooks_chap_10/notebooks_chap_10/files/MNIST/raw/train-images-idx3-ubyte.gz\n"
          ]
        },
        {
          "name": "stderr",
          "output_type": "stream",
          "text": [
            "100.0%\n"
          ]
        },
        {
          "name": "stdout",
          "output_type": "stream",
          "text": [
            "Extracting /home/niclasalv/proyects/Notebooks-Understanding-DL/notebooks_chap_10/notebooks_chap_10/files/MNIST/raw/train-images-idx3-ubyte.gz to /home/niclasalv/proyects/Notebooks-Understanding-DL/notebooks_chap_10/notebooks_chap_10/files/MNIST/raw\n",
            "\n",
            "Downloading http://yann.lecun.com/exdb/mnist/train-labels-idx1-ubyte.gz\n",
            "Failed to download (trying next):\n",
            "HTTP Error 403: Forbidden\n",
            "\n",
            "Downloading https://ossci-datasets.s3.amazonaws.com/mnist/train-labels-idx1-ubyte.gz\n",
            "Downloading https://ossci-datasets.s3.amazonaws.com/mnist/train-labels-idx1-ubyte.gz to /home/niclasalv/proyects/Notebooks-Understanding-DL/notebooks_chap_10/notebooks_chap_10/files/MNIST/raw/train-labels-idx1-ubyte.gz\n"
          ]
        },
        {
          "name": "stderr",
          "output_type": "stream",
          "text": [
            "100.0%\n"
          ]
        },
        {
          "name": "stdout",
          "output_type": "stream",
          "text": [
            "Extracting /home/niclasalv/proyects/Notebooks-Understanding-DL/notebooks_chap_10/notebooks_chap_10/files/MNIST/raw/train-labels-idx1-ubyte.gz to /home/niclasalv/proyects/Notebooks-Understanding-DL/notebooks_chap_10/notebooks_chap_10/files/MNIST/raw\n",
            "\n",
            "Downloading http://yann.lecun.com/exdb/mnist/t10k-images-idx3-ubyte.gz\n",
            "Failed to download (trying next):\n",
            "HTTP Error 403: Forbidden\n",
            "\n",
            "Downloading https://ossci-datasets.s3.amazonaws.com/mnist/t10k-images-idx3-ubyte.gz\n",
            "Downloading https://ossci-datasets.s3.amazonaws.com/mnist/t10k-images-idx3-ubyte.gz to /home/niclasalv/proyects/Notebooks-Understanding-DL/notebooks_chap_10/notebooks_chap_10/files/MNIST/raw/t10k-images-idx3-ubyte.gz\n"
          ]
        },
        {
          "name": "stderr",
          "output_type": "stream",
          "text": [
            "100.0%\n"
          ]
        },
        {
          "name": "stdout",
          "output_type": "stream",
          "text": [
            "Extracting /home/niclasalv/proyects/Notebooks-Understanding-DL/notebooks_chap_10/notebooks_chap_10/files/MNIST/raw/t10k-images-idx3-ubyte.gz to /home/niclasalv/proyects/Notebooks-Understanding-DL/notebooks_chap_10/notebooks_chap_10/files/MNIST/raw\n",
            "\n",
            "Downloading http://yann.lecun.com/exdb/mnist/t10k-labels-idx1-ubyte.gz\n",
            "Failed to download (trying next):\n",
            "HTTP Error 403: Forbidden\n",
            "\n",
            "Downloading https://ossci-datasets.s3.amazonaws.com/mnist/t10k-labels-idx1-ubyte.gz\n",
            "Downloading https://ossci-datasets.s3.amazonaws.com/mnist/t10k-labels-idx1-ubyte.gz to /home/niclasalv/proyects/Notebooks-Understanding-DL/notebooks_chap_10/notebooks_chap_10/files/MNIST/raw/t10k-labels-idx1-ubyte.gz\n"
          ]
        },
        {
          "name": "stderr",
          "output_type": "stream",
          "text": [
            "100.0%"
          ]
        },
        {
          "name": "stdout",
          "output_type": "stream",
          "text": [
            "Extracting /home/niclasalv/proyects/Notebooks-Understanding-DL/notebooks_chap_10/notebooks_chap_10/files/MNIST/raw/t10k-labels-idx1-ubyte.gz to /home/niclasalv/proyects/Notebooks-Understanding-DL/notebooks_chap_10/notebooks_chap_10/files/MNIST/raw\n",
            "\n"
          ]
        },
        {
          "name": "stderr",
          "output_type": "stream",
          "text": [
            "\n"
          ]
        }
      ],
      "source": [
        "# Run this once to load the train and test data straight into a dataloader class\n",
        "# that will provide the batches\n",
        "\n",
        "data_dir = os.path.join(os.getcwd(), 'notebooks_chap_10', 'files')\n",
        "\n",
        "batch_size_train = 64\n",
        "batch_size_test = 1000\n",
        "train_loader = torch.utils.data.DataLoader(\n",
        "  torchvision.datasets.MNIST(data_dir, train=True, download=True,\n",
        "                             transform=torchvision.transforms.Compose([\n",
        "                               torchvision.transforms.ToTensor(),\n",
        "                               torchvision.transforms.Normalize(\n",
        "                                 (0.1307,), (0.3081,))\n",
        "                             ])),\n",
        "  batch_size=batch_size_train, shuffle=True)\n",
        "\n",
        "test_loader = torch.utils.data.DataLoader(\n",
        "  torchvision.datasets.MNIST(data_dir, train=False, download=True,\n",
        "                             transform=torchvision.transforms.Compose([\n",
        "                               torchvision.transforms.ToTensor(),\n",
        "                               torchvision.transforms.Normalize(\n",
        "                                 (0.1307,), (0.3081,))\n",
        "                             ])),\n",
        "  batch_size=batch_size_test, shuffle=True)"
      ]
    },
    {
      "cell_type": "code",
      "execution_count": 10,
      "metadata": {
        "id": "8bKADvLHbiV5"
      },
      "outputs": [
        {
          "data": {
            "image/png": "[encoded data removed]",
            "text/plain": [
              "<Figure size 640x480 with 6 Axes>"
            ]
          },
          "metadata": {},
          "output_type": "display_data"
        }
      ],
      "source": [
        "# Let's draw some of the training data\n",
        "examples = enumerate(test_loader)\n",
        "batch_idx, (example_data, example_targets) = next(examples)\n",
        "\n",
        "fig = plt.figure()\n",
        "for i in range(6):\n",
        "  plt.subplot(2,3,i+1)\n",
        "  plt.tight_layout()\n",
        "  plt.imshow(example_data[i][0], cmap='gray', interpolation='none')\n",
        "  plt.title(\"Ground Truth: {}\".format(example_targets[i]))\n",
        "  plt.xticks([])\n",
        "  plt.yticks([])\n",
        "plt.show()"
      ]
    },
    {
      "cell_type": "markdown",
      "metadata": {
        "id": "_sFvRDGrl4qe"
      },
      "source": [
        "Define the network.  This is a more typical way to define a network than the sequential structure.  We define a class for the network, and define the parameters in the constructor.  Then we use a function called forward to actually run the network.  It's easy to see how you might use residual connections in this format."
      ]
    },
    {
      "cell_type": "code",
      "execution_count": 11,
      "metadata": {
        "id": "EQkvw2KOPVl7"
      },
      "outputs": [],
      "source": [
        "from os import X_OK\n",
        "# TODO Change this class to implement\n",
        "# 1. A valid convolution with kernel size 5, 1 input channel and 10 output channels\n",
        "# 2. A max pooling operation over a 2x2 area\n",
        "# 3. A Relu\n",
        "# 4. A valid convolution with kernel size 5, 10 input channels and 20 output channels\n",
        "# 5. A 2D Dropout layer\n",
        "# 6. A max pooling operation over a 2x2 area\n",
        "# 7. A relu\n",
        "# 8. A flattening operation\n",
        "# 9. A fully connected layer mapping from (whatever dimensions we are at-- find out using .shape) to 50\n",
        "# 10. A ReLU\n",
        "# 11. A fully connected layer mapping from 50 to 10 dimensions\n",
        "# 12. A softmax function.\n",
        "\n",
        "# Replace this class which implements a minimal network (which still does okay)\n",
        "class Net(nn.Module):\n",
        "    def __init__(self):\n",
        "        super(Net, self).__init__()\n",
        "        self.conv1 = nn.Conv2d(1, 10, kernel_size=5)\n",
        "        self.conv2 = nn.Conv2d(10, 20, kernel_size=5)\n",
        "        self.conv2_drop = nn.Dropout2d()\n",
        "        self.fc1 = nn.Linear(320, 50)\n",
        "        self.fc2 = nn.Linear(50, 10)\n",
        "\n",
        "    def forward(self, x):\n",
        "        x = F.relu(F.max_pool2d(self.conv1(x), 2))\n",
        "        x = F.relu(F.max_pool2d(self.conv2_drop(self.conv2(x)), 2))\n",
        "        x = x.view(-1, 320)\n",
        "        x = F.relu(self.fc1(x))\n",
        "        x = F.dropout(x, training=self.training)\n",
        "        x = self.fc2(x)\n",
        "        return F.log_softmax(x)\n",
        "        "
      ]
    },
    {
      "cell_type": "code",
      "execution_count": 12,
      "metadata": {
        "id": "qWZtkCZcU_dg"
      },
      "outputs": [],
      "source": [
        "# He initialization of weights\n",
        "def weights_init(layer_in):\n",
        "  if isinstance(layer_in, nn.Linear):\n",
        "    nn.init.kaiming_uniform_(layer_in.weight)\n",
        "    layer_in.bias.data.fill_(0.0)"
      ]
    },
    {
      "cell_type": "code",
      "execution_count": 13,
      "metadata": {
        "id": "FslroPJJffrh"
      },
      "outputs": [],
      "source": [
        "# Create network\n",
        "model = Net()\n",
        "# Initialize model weights\n",
        "model.apply(weights_init)\n",
        "# Define optimizer\n",
        "optimizer = optim.SGD(model.parameters(), lr=0.01, momentum=0.5)"
      ]
    },
    {
      "cell_type": "code",
      "execution_count": 14,
      "metadata": {
        "id": "xKQd9PzkQ766"
      },
      "outputs": [],
      "source": [
        "# Main training routine\n",
        "def train(epoch):\n",
        "  model.train()\n",
        "  # Get each\n",
        "  for batch_idx, (data, target) in enumerate(train_loader):\n",
        "    optimizer.zero_grad()\n",
        "    output = model(data)\n",
        "    loss = F.nll_loss(output, target)\n",
        "    loss.backward()\n",
        "    optimizer.step()\n",
        "    # Store results\n",
        "    if batch_idx % 10 == 0:\n",
        "      print('Train Epoch: {} [{}/{}]\\tLoss: {:.6f}'.format(\n",
        "        epoch, batch_idx * len(data), len(train_loader.dataset), loss.item()))"
      ]
    },
    {
      "cell_type": "code",
      "execution_count": 15,
      "metadata": {
        "id": "Byn-f7qWRLxX"
      },
      "outputs": [],
      "source": [
        "# Run on test data\n",
        "def test():\n",
        "  model.eval()\n",
        "  test_loss = 0\n",
        "  correct = 0\n",
        "  with torch.no_grad():\n",
        "    for data, target in test_loader:\n",
        "      output = model(data)\n",
        "      test_loss += F.nll_loss(output, target, size_average=False).item()\n",
        "      pred = output.data.max(1, keepdim=True)[1]\n",
        "      correct += pred.eq(target.data.view_as(pred)).sum()\n",
        "  test_loss /= len(test_loader.dataset)\n",
        "  print('\\nTest set: Avg. loss: {:.4f}, Accuracy: {}/{} ({:.0f}%)\\n'.format(\n",
        "    test_loss, correct, len(test_loader.dataset),\n",
        "    100. * correct / len(test_loader.dataset)))"
      ]
    },
    {
      "cell_type": "code",
      "execution_count": 16,
      "metadata": {
        "id": "YgLaex1pfhqz"
      },
      "outputs": [
        {
          "name": "stderr",
          "output_type": "stream",
          "text": [
            "/tmp/ipykernel_16955/404853737.py:33: UserWarning: Implicit dimension choice for log_softmax has been deprecated. Change the call to include dim=X as an argument.\n",
            "  return F.log_softmax(x)\n",
            "/home/niclasalv/proyects/Notebooks-Understanding-DL/env/lib/python3.10/site-packages/torch/nn/_reduction.py:42: UserWarning: size_average and reduce args will be deprecated, please use reduction='sum' instead.\n",
            "  warnings.warn(warning.format(ret))\n"
          ]
        },
        {
          "name": "stdout",
          "output_type": "stream",
          "text": [
            "\n",
            "Test set: Avg. loss: 2.4572, Accuracy: 724/10000 (7%)\n",
            "\n",
            "Train Epoch: 1 [0/60000]\tLoss: 2.794635\n",
            "Train Epoch: 1 [640/60000]\tLoss: 2.228458\n",
            "Train Epoch: 1 [1280/60000]\tLoss: 2.222869\n",
            "Train Epoch: 1 [1920/60000]\tLoss: 2.118738\n",
            "Train Epoch: 1 [2560/60000]\tLoss: 1.956586\n",
            "Train Epoch: 1 [3200/60000]\tLoss: 2.121987\n",
            "Train Epoch: 1 [3840/60000]\tLoss: 1.956455\n",
            "Train Epoch: 1 [4480/60000]\tLoss: 1.927929\n",
            "Train Epoch: 1 [5120/60000]\tLoss: 1.761323\n",
            "Train Epoch: 1 [5760/60000]\tLoss: 1.760295\n",
            "Train Epoch: 1 [6400/60000]\tLoss: 1.710694\n",
            "Train Epoch: 1 [7040/60000]\tLoss: 1.570911\n",
            "Train Epoch: 1 [7680/60000]\tLoss: 1.618693\n",
            "Train Epoch: 1 [8320/60000]\tLoss: 1.622651\n",
            "Train Epoch: 1 [8960/60000]\tLoss: 1.538373\n",
            "Train Epoch: 1 [9600/60000]\tLoss: 1.492161\n",
            "Train Epoch: 1 [10240/60000]\tLoss: 1.341708\n",
            "Train Epoch: 1 [10880/60000]\tLoss: 1.344527\n",
            "Train Epoch: 1 [11520/60000]\tLoss: 1.664352\n",
            "Train Epoch: 1 [12160/60000]\tLoss: 1.314981\n",
            "Train Epoch: 1 [12800/60000]\tLoss: 1.196626\n",
            "Train Epoch: 1 [13440/60000]\tLoss: 1.197038\n",
            "Train Epoch: 1 [14080/60000]\tLoss: 1.243410\n",
            "Train Epoch: 1 [14720/60000]\tLoss: 0.858895\n",
            "Train Epoch: 1 [15360/60000]\tLoss: 1.067699\n",
            "Train Epoch: 1 [16000/60000]\tLoss: 1.129830\n",
            "Train Epoch: 1 [16640/60000]\tLoss: 1.108870\n",
            "Train Epoch: 1 [17280/60000]\tLoss: 1.131423\n",
            "Train Epoch: 1 [17920/60000]\tLoss: 1.000395\n",
            "Train Epoch: 1 [18560/60000]\tLoss: 1.010696\n",
            "Train Epoch: 1 [19200/60000]\tLoss: 1.003135\n",
            "Train Epoch: 1 [19840/60000]\tLoss: 0.915760\n",
            "Train Epoch: 1 [20480/60000]\tLoss: 0.806165\n",
            "Train Epoch: 1 [21120/60000]\tLoss: 0.754377\n",
            "Train Epoch: 1 [21760/60000]\tLoss: 0.888178\n",
            "Train Epoch: 1 [22400/60000]\tLoss: 0.801456\n",
            "Train Epoch: 1 [23040/60000]\tLoss: 1.099241\n",
            "Train Epoch: 1 [23680/60000]\tLoss: 0.787739\n",
            "Train Epoch: 1 [24320/60000]\tLoss: 1.036272\n",
            "Train Epoch: 1 [24960/60000]\tLoss: 0.836247\n",
            "Train Epoch: 1 [25600/60000]\tLoss: 0.834584\n",
            "Train Epoch: 1 [26240/60000]\tLoss: 0.634715\n",
            "Train Epoch: 1 [26880/60000]\tLoss: 0.797055\n",
            "Train Epoch: 1 [27520/60000]\tLoss: 0.700336\n",
            "Train Epoch: 1 [28160/60000]\tLoss: 0.842430\n",
            "Train Epoch: 1 [28800/60000]\tLoss: 1.184268\n",
            "Train Epoch: 1 [29440/60000]\tLoss: 0.847452\n",
            "Train Epoch: 1 [30080/60000]\tLoss: 0.799400\n",
            "Train Epoch: 1 [30720/60000]\tLoss: 0.567108\n",
            "Train Epoch: 1 [31360/60000]\tLoss: 0.711829\n",
            "Train Epoch: 1 [32000/60000]\tLoss: 0.723490\n",
            "Train Epoch: 1 [32640/60000]\tLoss: 0.581844\n",
            "Train Epoch: 1 [33280/60000]\tLoss: 0.663718\n",
            "Train Epoch: 1 [33920/60000]\tLoss: 0.765297\n",
            "Train Epoch: 1 [34560/60000]\tLoss: 0.606822\n",
            "Train Epoch: 1 [35200/60000]\tLoss: 0.879118\n",
            "Train Epoch: 1 [35840/60000]\tLoss: 0.771326\n",
            "Train Epoch: 1 [36480/60000]\tLoss: 0.944299\n",
            "Train Epoch: 1 [37120/60000]\tLoss: 0.689279\n",
            "Train Epoch: 1 [37760/60000]\tLoss: 0.724433\n",
            "Train Epoch: 1 [38400/60000]\tLoss: 0.902848\n",
            "Train Epoch: 1 [39040/60000]\tLoss: 0.677626\n",
            "Train Epoch: 1 [39680/60000]\tLoss: 0.664682\n",
            "Train Epoch: 1 [40320/60000]\tLoss: 0.553021\n",
            "Train Epoch: 1 [40960/60000]\tLoss: 0.674050\n",
            "Train Epoch: 1 [41600/60000]\tLoss: 0.817678\n",
            "Train Epoch: 1 [42240/60000]\tLoss: 0.719399\n",
            "Train Epoch: 1 [42880/60000]\tLoss: 0.924264\n",
            "Train Epoch: 1 [43520/60000]\tLoss: 0.357977\n",
            "Train Epoch: 1 [44160/60000]\tLoss: 0.546446\n",
            "Train Epoch: 1 [44800/60000]\tLoss: 0.674421\n",
            "Train Epoch: 1 [45440/60000]\tLoss: 0.673072\n",
            "Train Epoch: 1 [46080/60000]\tLoss: 0.428757\n",
            "Train Epoch: 1 [46720/60000]\tLoss: 0.332235\n",
            "Train Epoch: 1 [47360/60000]\tLoss: 0.683912\n",
            "Train Epoch: 1 [48000/60000]\tLoss: 0.752687\n",
            "Train Epoch: 1 [48640/60000]\tLoss: 0.454936\n",
            "Train Epoch: 1 [49280/60000]\tLoss: 0.576981\n",
            "Train Epoch: 1 [49920/60000]\tLoss: 0.564505\n",
            "Train Epoch: 1 [50560/60000]\tLoss: 0.483939\n",
            "Train Epoch: 1 [51200/60000]\tLoss: 0.910128\n",
            "Train Epoch: 1 [51840/60000]\tLoss: 0.595695\n",
            "Train Epoch: 1 [52480/60000]\tLoss: 0.463749\n",
            "Train Epoch: 1 [53120/60000]\tLoss: 0.384674\n",
            "Train Epoch: 1 [53760/60000]\tLoss: 0.519335\n",
            "Train Epoch: 1 [54400/60000]\tLoss: 0.641809\n",
            "Train Epoch: 1 [55040/60000]\tLoss: 0.713534\n",
            "Train Epoch: 1 [55680/60000]\tLoss: 0.495745\n",
            "Train Epoch: 1 [56320/60000]\tLoss: 0.595572\n",
            "Train Epoch: 1 [56960/60000]\tLoss: 0.448850\n",
            "Train Epoch: 1 [57600/60000]\tLoss: 0.571494\n",
            "Train Epoch: 1 [58240/60000]\tLoss: 0.583361\n",
            "Train Epoch: 1 [58880/60000]\tLoss: 0.543747\n",
            "Train Epoch: 1 [59520/60000]\tLoss: 0.478283\n",
            "\n",
            "Test set: Avg. loss: 0.1743, Accuracy: 9510/10000 (95%)\n",
            "\n",
            "Train Epoch: 2 [0/60000]\tLoss: 0.474668\n",
            "Train Epoch: 2 [640/60000]\tLoss: 0.560507\n",
            "Train Epoch: 2 [1280/60000]\tLoss: 0.627915\n",
            "Train Epoch: 2 [1920/60000]\tLoss: 0.636153\n",
            "Train Epoch: 2 [2560/60000]\tLoss: 0.368554\n",
            "Train Epoch: 2 [3200/60000]\tLoss: 0.517190\n",
            "Train Epoch: 2 [3840/60000]\tLoss: 0.300656\n",
            "Train Epoch: 2 [4480/60000]\tLoss: 0.437108\n",
            "Train Epoch: 2 [5120/60000]\tLoss: 0.523247\n",
            "Train Epoch: 2 [5760/60000]\tLoss: 0.505055\n",
            "Train Epoch: 2 [6400/60000]\tLoss: 0.512895\n",
            "Train Epoch: 2 [7040/60000]\tLoss: 0.280318\n",
            "Train Epoch: 2 [7680/60000]\tLoss: 0.570900\n",
            "Train Epoch: 2 [8320/60000]\tLoss: 0.350625\n",
            "Train Epoch: 2 [8960/60000]\tLoss: 0.514033\n",
            "Train Epoch: 2 [9600/60000]\tLoss: 0.591352\n",
            "Train Epoch: 2 [10240/60000]\tLoss: 0.480938\n",
            "Train Epoch: 2 [10880/60000]\tLoss: 0.574594\n",
            "Train Epoch: 2 [11520/60000]\tLoss: 0.570195\n",
            "Train Epoch: 2 [12160/60000]\tLoss: 0.648209\n",
            "Train Epoch: 2 [12800/60000]\tLoss: 0.753918\n",
            "Train Epoch: 2 [13440/60000]\tLoss: 0.457956\n",
            "Train Epoch: 2 [14080/60000]\tLoss: 0.450688\n",
            "Train Epoch: 2 [14720/60000]\tLoss: 0.332391\n",
            "Train Epoch: 2 [15360/60000]\tLoss: 0.525022\n",
            "Train Epoch: 2 [16000/60000]\tLoss: 0.438089\n",
            "Train Epoch: 2 [16640/60000]\tLoss: 0.285238\n",
            "Train Epoch: 2 [17280/60000]\tLoss: 0.566808\n",
            "Train Epoch: 2 [17920/60000]\tLoss: 0.385025\n",
            "Train Epoch: 2 [18560/60000]\tLoss: 0.457795\n",
            "Train Epoch: 2 [19200/60000]\tLoss: 0.544544\n",
            "Train Epoch: 2 [19840/60000]\tLoss: 0.547837\n",
            "Train Epoch: 2 [20480/60000]\tLoss: 0.384074\n",
            "Train Epoch: 2 [21120/60000]\tLoss: 0.626731\n",
            "Train Epoch: 2 [21760/60000]\tLoss: 0.508745\n",
            "Train Epoch: 2 [22400/60000]\tLoss: 0.428038\n",
            "Train Epoch: 2 [23040/60000]\tLoss: 0.442532\n",
            "Train Epoch: 2 [23680/60000]\tLoss: 0.323095\n",
            "Train Epoch: 2 [24320/60000]\tLoss: 0.363212\n",
            "Train Epoch: 2 [24960/60000]\tLoss: 0.340152\n",
            "Train Epoch: 2 [25600/60000]\tLoss: 0.337447\n",
            "Train Epoch: 2 [26240/60000]\tLoss: 0.447080\n",
            "Train Epoch: 2 [26880/60000]\tLoss: 0.525786\n",
            "Train Epoch: 2 [27520/60000]\tLoss: 0.440205\n",
            "Train Epoch: 2 [28160/60000]\tLoss: 0.252808\n",
            "Train Epoch: 2 [28800/60000]\tLoss: 0.331874\n",
            "Train Epoch: 2 [29440/60000]\tLoss: 0.692347\n",
            "Train Epoch: 2 [30080/60000]\tLoss: 0.321872\n",
            "Train Epoch: 2 [30720/60000]\tLoss: 0.369928\n",
            "Train Epoch: 2 [31360/60000]\tLoss: 0.505181\n",
            "Train Epoch: 2 [32000/60000]\tLoss: 0.358778\n",
            "Train Epoch: 2 [32640/60000]\tLoss: 0.448334\n",
            "Train Epoch: 2 [33280/60000]\tLoss: 0.774022\n",
            "Train Epoch: 2 [33920/60000]\tLoss: 0.393143\n",
            "Train Epoch: 2 [34560/60000]\tLoss: 0.399158\n",
            "Train Epoch: 2 [35200/60000]\tLoss: 0.511293\n",
            "Train Epoch: 2 [35840/60000]\tLoss: 0.600001\n",
            "Train Epoch: 2 [36480/60000]\tLoss: 0.334201\n",
            "Train Epoch: 2 [37120/60000]\tLoss: 0.718654\n",
            "Train Epoch: 2 [37760/60000]\tLoss: 0.426848\n",
            "Train Epoch: 2 [38400/60000]\tLoss: 0.211611\n",
            "Train Epoch: 2 [39040/60000]\tLoss: 0.239239\n",
            "Train Epoch: 2 [39680/60000]\tLoss: 0.355993\n",
            "Train Epoch: 2 [40320/60000]\tLoss: 0.510109\n",
            "Train Epoch: 2 [40960/60000]\tLoss: 0.449984\n",
            "Train Epoch: 2 [41600/60000]\tLoss: 0.344112\n",
            "Train Epoch: 2 [42240/60000]\tLoss: 0.362726\n",
            "Train Epoch: 2 [42880/60000]\tLoss: 0.335246\n",
            "Train Epoch: 2 [43520/60000]\tLoss: 0.332908\n",
            "Train Epoch: 2 [44160/60000]\tLoss: 0.372835\n",
            "Train Epoch: 2 [44800/60000]\tLoss: 0.486224\n",
            "Train Epoch: 2 [45440/60000]\tLoss: 0.283005\n",
            "Train Epoch: 2 [46080/60000]\tLoss: 0.456598\n",
            "Train Epoch: 2 [46720/60000]\tLoss: 0.425731\n",
            "Train Epoch: 2 [47360/60000]\tLoss: 0.334651\n",
            "Train Epoch: 2 [48000/60000]\tLoss: 0.426692\n",
            "Train Epoch: 2 [48640/60000]\tLoss: 0.310232\n",
            "Train Epoch: 2 [49280/60000]\tLoss: 0.382578\n",
            "Train Epoch: 2 [49920/60000]\tLoss: 0.702590\n",
            "Train Epoch: 2 [50560/60000]\tLoss: 0.465853\n",
            "Train Epoch: 2 [51200/60000]\tLoss: 0.313031\n",
            "Train Epoch: 2 [51840/60000]\tLoss: 0.299166\n",
            "Train Epoch: 2 [52480/60000]\tLoss: 0.482896\n",
            "Train Epoch: 2 [53120/60000]\tLoss: 0.348706\n",
            "Train Epoch: 2 [53760/60000]\tLoss: 0.183018\n",
            "Train Epoch: 2 [54400/60000]\tLoss: 0.359065\n",
            "Train Epoch: 2 [55040/60000]\tLoss: 0.303351\n",
            "Train Epoch: 2 [55680/60000]\tLoss: 0.146450\n",
            "Train Epoch: 2 [56320/60000]\tLoss: 0.337381\n",
            "Train Epoch: 2 [56960/60000]\tLoss: 0.272013\n",
            "Train Epoch: 2 [57600/60000]\tLoss: 0.339336\n",
            "Train Epoch: 2 [58240/60000]\tLoss: 0.311274\n",
            "Train Epoch: 2 [58880/60000]\tLoss: 0.570915\n",
            "Train Epoch: 2 [59520/60000]\tLoss: 0.429874\n",
            "\n",
            "Test set: Avg. loss: 0.1047, Accuracy: 9686/10000 (97%)\n",
            "\n",
            "Train Epoch: 3 [0/60000]\tLoss: 0.522623\n",
            "Train Epoch: 3 [640/60000]\tLoss: 0.517468\n",
            "Train Epoch: 3 [1280/60000]\tLoss: 0.231530\n",
            "Train Epoch: 3 [1920/60000]\tLoss: 0.411767\n",
            "Train Epoch: 3 [2560/60000]\tLoss: 0.279867\n",
            "Train Epoch: 3 [3200/60000]\tLoss: 0.316005\n",
            "Train Epoch: 3 [3840/60000]\tLoss: 0.273926\n",
            "Train Epoch: 3 [4480/60000]\tLoss: 0.320470\n",
            "Train Epoch: 3 [5120/60000]\tLoss: 0.522848\n",
            "Train Epoch: 3 [5760/60000]\tLoss: 0.252470\n",
            "Train Epoch: 3 [6400/60000]\tLoss: 0.422304\n",
            "Train Epoch: 3 [7040/60000]\tLoss: 0.413307\n",
            "Train Epoch: 3 [7680/60000]\tLoss: 0.342971\n",
            "Train Epoch: 3 [8320/60000]\tLoss: 0.453343\n",
            "Train Epoch: 3 [8960/60000]\tLoss: 0.242189\n",
            "Train Epoch: 3 [9600/60000]\tLoss: 0.226060\n",
            "Train Epoch: 3 [10240/60000]\tLoss: 0.330036\n",
            "Train Epoch: 3 [10880/60000]\tLoss: 0.307997\n",
            "Train Epoch: 3 [11520/60000]\tLoss: 0.333142\n",
            "Train Epoch: 3 [12160/60000]\tLoss: 0.460428\n",
            "Train Epoch: 3 [12800/60000]\tLoss: 0.291425\n",
            "Train Epoch: 3 [13440/60000]\tLoss: 0.262815\n",
            "Train Epoch: 3 [14080/60000]\tLoss: 0.280284\n",
            "Train Epoch: 3 [14720/60000]\tLoss: 0.532465\n",
            "Train Epoch: 3 [15360/60000]\tLoss: 0.226130\n",
            "Train Epoch: 3 [16000/60000]\tLoss: 0.247162\n",
            "Train Epoch: 3 [16640/60000]\tLoss: 0.278350\n",
            "Train Epoch: 3 [17280/60000]\tLoss: 0.443700\n",
            "Train Epoch: 3 [17920/60000]\tLoss: 0.305456\n",
            "Train Epoch: 3 [18560/60000]\tLoss: 0.595179\n",
            "Train Epoch: 3 [19200/60000]\tLoss: 0.353882\n",
            "Train Epoch: 3 [19840/60000]\tLoss: 0.223945\n",
            "Train Epoch: 3 [20480/60000]\tLoss: 0.276401\n",
            "Train Epoch: 3 [21120/60000]\tLoss: 0.251185\n",
            "Train Epoch: 3 [21760/60000]\tLoss: 0.298996\n",
            "Train Epoch: 3 [22400/60000]\tLoss: 0.138333\n",
            "Train Epoch: 3 [23040/60000]\tLoss: 0.322129\n",
            "Train Epoch: 3 [23680/60000]\tLoss: 0.515909\n",
            "Train Epoch: 3 [24320/60000]\tLoss: 0.190089\n",
            "Train Epoch: 3 [24960/60000]\tLoss: 0.322453\n",
            "Train Epoch: 3 [25600/60000]\tLoss: 0.158183\n",
            "Train Epoch: 3 [26240/60000]\tLoss: 0.261143\n",
            "Train Epoch: 3 [26880/60000]\tLoss: 0.268069\n",
            "Train Epoch: 3 [27520/60000]\tLoss: 0.456250\n",
            "Train Epoch: 3 [28160/60000]\tLoss: 0.393482\n",
            "Train Epoch: 3 [28800/60000]\tLoss: 0.261608\n",
            "Train Epoch: 3 [29440/60000]\tLoss: 0.375608\n",
            "Train Epoch: 3 [30080/60000]\tLoss: 0.389056\n",
            "Train Epoch: 3 [30720/60000]\tLoss: 0.332768\n",
            "Train Epoch: 3 [31360/60000]\tLoss: 0.346995\n",
            "Train Epoch: 3 [32000/60000]\tLoss: 0.231346\n",
            "Train Epoch: 3 [32640/60000]\tLoss: 0.129305\n",
            "Train Epoch: 3 [33280/60000]\tLoss: 0.207689\n",
            "Train Epoch: 3 [33920/60000]\tLoss: 0.317403\n",
            "Train Epoch: 3 [34560/60000]\tLoss: 0.207497\n",
            "Train Epoch: 3 [35200/60000]\tLoss: 0.394281\n",
            "Train Epoch: 3 [35840/60000]\tLoss: 0.262551\n",
            "Train Epoch: 3 [36480/60000]\tLoss: 0.355109\n",
            "Train Epoch: 3 [37120/60000]\tLoss: 0.291345\n",
            "Train Epoch: 3 [37760/60000]\tLoss: 0.447373\n",
            "Train Epoch: 3 [38400/60000]\tLoss: 0.212464\n",
            "Train Epoch: 3 [39040/60000]\tLoss: 0.469096\n",
            "Train Epoch: 3 [39680/60000]\tLoss: 0.404025\n",
            "Train Epoch: 3 [40320/60000]\tLoss: 0.431772\n",
            "Train Epoch: 3 [40960/60000]\tLoss: 0.395013\n",
            "Train Epoch: 3 [41600/60000]\tLoss: 0.215194\n",
            "Train Epoch: 3 [42240/60000]\tLoss: 0.483220\n",
            "Train Epoch: 3 [42880/60000]\tLoss: 0.200934\n",
            "Train Epoch: 3 [43520/60000]\tLoss: 0.322460\n",
            "Train Epoch: 3 [44160/60000]\tLoss: 0.202794\n",
            "Train Epoch: 3 [44800/60000]\tLoss: 0.272385\n",
            "Train Epoch: 3 [45440/60000]\tLoss: 0.262182\n",
            "Train Epoch: 3 [46080/60000]\tLoss: 0.190486\n",
            "Train Epoch: 3 [46720/60000]\tLoss: 0.320604\n",
            "Train Epoch: 3 [47360/60000]\tLoss: 0.300254\n",
            "Train Epoch: 3 [48000/60000]\tLoss: 0.179312\n",
            "Train Epoch: 3 [48640/60000]\tLoss: 0.343843\n",
            "Train Epoch: 3 [49280/60000]\tLoss: 0.200215\n",
            "Train Epoch: 3 [49920/60000]\tLoss: 0.293753\n",
            "Train Epoch: 3 [50560/60000]\tLoss: 0.294419\n",
            "Train Epoch: 3 [51200/60000]\tLoss: 0.186833\n",
            "Train Epoch: 3 [51840/60000]\tLoss: 0.441716\n",
            "Train Epoch: 3 [52480/60000]\tLoss: 0.318480\n",
            "Train Epoch: 3 [53120/60000]\tLoss: 0.302334\n",
            "Train Epoch: 3 [53760/60000]\tLoss: 0.230548\n",
            "Train Epoch: 3 [54400/60000]\tLoss: 0.333238\n",
            "Train Epoch: 3 [55040/60000]\tLoss: 0.172969\n",
            "Train Epoch: 3 [55680/60000]\tLoss: 0.274380\n",
            "Train Epoch: 3 [56320/60000]\tLoss: 0.294414\n",
            "Train Epoch: 3 [56960/60000]\tLoss: 0.245262\n",
            "Train Epoch: 3 [57600/60000]\tLoss: 0.487568\n",
            "Train Epoch: 3 [58240/60000]\tLoss: 0.348587\n",
            "Train Epoch: 3 [58880/60000]\tLoss: 0.245756\n",
            "Train Epoch: 3 [59520/60000]\tLoss: 0.291157\n",
            "\n",
            "Test set: Avg. loss: 0.0876, Accuracy: 9727/10000 (97%)\n",
            "\n"
          ]
        }
      ],
      "source": [
        "# Get initial performance\n",
        "test()\n",
        "# Train for three epochs\n",
        "n_epochs = 3\n",
        "for epoch in range(1, n_epochs + 1):\n",
        "  train(epoch)\n",
        "  test()"
      ]
    },
    {
      "cell_type": "code",
      "execution_count": 17,
      "metadata": {
        "id": "o7fRUAy9Se1B"
      },
      "outputs": [
        {
          "name": "stderr",
          "output_type": "stream",
          "text": [
            "/tmp/ipykernel_16955/404853737.py:33: UserWarning: Implicit dimension choice for log_softmax has been deprecated. Change the call to include dim=X as an argument.\n",
            "  return F.log_softmax(x)\n"
          ]
        },
        {
          "data": {
            "image/png": "[encoded data removed]",
            "text/plain": [
              "<Figure size 640x480 with 10 Axes>"
            ]
          },
          "metadata": {},
          "output_type": "display_data"
        }
      ],
      "source": [
        "# Run network on data we got before and show predictions\n",
        "output = model(example_data)\n",
        "\n",
        "fig = plt.figure()\n",
        "for i in range(10):\n",
        "  plt.subplot(5,5,i+1)\n",
        "  plt.tight_layout()\n",
        "  plt.imshow(example_data[i][0], cmap='gray', interpolation='none')\n",
        "  plt.title(\"Prediction: {}\".format(\n",
        "    output.data.max(1, keepdim=True)[1][i].item()))\n",
        "  plt.xticks([])\n",
        "  plt.yticks([])\n",
        "plt.show()"
      ]
    }
  ],
  "metadata": {
    "colab": {
      "authorship_tag": "ABX9TyNAcc98STMeyQgh9SbVHWG+",
      "include_colab_link": true,
      "provenance": []
    },
    "kernelspec": {
      "display_name": "Python 3",
      "name": "python3"
    },
    "language_info": {
      "codemirror_mode": {
        "name": "ipython",
        "version": 3
      },
      "file_extension": ".py",
      "mimetype": "text/x-python",
      "name": "python",
      "nbconvert_exporter": "python",
      "pygments_lexer": "ipython3",
      "version": "3.10.12"
    }
  },
  "nbformat": 4,
  "nbformat_minor": 0
}
