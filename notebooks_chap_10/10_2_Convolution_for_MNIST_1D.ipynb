{
  "cells": [
    {
      "cell_type": "markdown",
      "metadata": {
        "id": "t9vk9Elugvmi"
      },
      "source": [
        "# **Notebook 10.2: Convolution for MNIST-1D**\n",
        "\n",
        "This notebook investigates a 1D convolutional network for MNIST-1D as in figure 10.7 and 10.8a.\n",
        "\n",
        "Work through the cells below, running each cell in turn. In various places you will see the words \"TO DO\". Follow the instructions at these places and make predictions about what is going to happen or write code to complete the functions.\n",
        "\n",
        "Contact me at udlbookmail@gmail.com if you find any mistakes or have any suggestions.\n",
        "\n"
      ]
    },
    {
      "cell_type": "code",
      "execution_count": 1,
      "metadata": {
        "id": "D5yLObtZCi9J"
      },
      "outputs": [
        {
          "name": "stdout",
          "output_type": "stream",
          "text": [
            "Collecting git+https://github.com/greydanus/mnist1d\n",
            "  Cloning https://github.com/greydanus/mnist1d to c:\\users\\nicla\\appdata\\local\\temp\\pip-req-build-7a35owxd\n",
            "  Resolved https://github.com/greydanus/mnist1d to commit 350929d12f4c9a4b7355e0c96604e41b9239bdb4\n",
            "  Installing build dependencies: started\n",
            "  Installing build dependencies: finished with status 'done'\n",
            "  Getting requirements to build wheel: started\n",
            "  Getting requirements to build wheel: finished with status 'done'\n",
            "  Preparing metadata (pyproject.toml): started\n",
            "  Preparing metadata (pyproject.toml): finished with status 'done'\n",
            "Requirement already satisfied: requests in c:\\users\\nicla\\documents\\proyects\\notebooks-understanding-dl\\notebooks-understanding-dl\\env\\lib\\site-packages (from mnist1d==0.0.2.post9) (2.32.3)\n",
            "Requirement already satisfied: numpy in c:\\users\\nicla\\documents\\proyects\\notebooks-understanding-dl\\notebooks-understanding-dl\\env\\lib\\site-packages (from mnist1d==0.0.2.post9) (1.26.4)\n",
            "Requirement already satisfied: matplotlib in c:\\users\\nicla\\documents\\proyects\\notebooks-understanding-dl\\notebooks-understanding-dl\\env\\lib\\site-packages (from mnist1d==0.0.2.post9) (3.9.0)\n",
            "Requirement already satisfied: scipy in c:\\users\\nicla\\documents\\proyects\\notebooks-understanding-dl\\notebooks-understanding-dl\\env\\lib\\site-packages (from mnist1d==0.0.2.post9) (1.14.0)\n",
            "Requirement already satisfied: contourpy>=1.0.1 in c:\\users\\nicla\\documents\\proyects\\notebooks-understanding-dl\\notebooks-understanding-dl\\env\\lib\\site-packages (from matplotlib->mnist1d==0.0.2.post9) (1.2.1)\n",
            "Requirement already satisfied: cycler>=0.10 in c:\\users\\nicla\\documents\\proyects\\notebooks-understanding-dl\\notebooks-understanding-dl\\env\\lib\\site-packages (from matplotlib->mnist1d==0.0.2.post9) (0.12.1)\n",
            "Requirement already satisfied: fonttools>=4.22.0 in c:\\users\\nicla\\documents\\proyects\\notebooks-understanding-dl\\notebooks-understanding-dl\\env\\lib\\site-packages (from matplotlib->mnist1d==0.0.2.post9) (4.53.0)\n",
            "Requirement already satisfied: kiwisolver>=1.3.1 in c:\\users\\nicla\\documents\\proyects\\notebooks-understanding-dl\\notebooks-understanding-dl\\env\\lib\\site-packages (from matplotlib->mnist1d==0.0.2.post9) (1.4.5)\n",
            "Requirement already satisfied: packaging>=20.0 in c:\\users\\nicla\\documents\\proyects\\notebooks-understanding-dl\\notebooks-understanding-dl\\env\\lib\\site-packages (from matplotlib->mnist1d==0.0.2.post9) (24.1)\n",
            "Requirement already satisfied: pillow>=8 in c:\\users\\nicla\\documents\\proyects\\notebooks-understanding-dl\\notebooks-understanding-dl\\env\\lib\\site-packages (from matplotlib->mnist1d==0.0.2.post9) (10.4.0)\n",
            "Requirement already satisfied: pyparsing>=2.3.1 in c:\\users\\nicla\\documents\\proyects\\notebooks-understanding-dl\\notebooks-understanding-dl\\env\\lib\\site-packages (from matplotlib->mnist1d==0.0.2.post9) (3.1.2)\n",
            "Requirement already satisfied: python-dateutil>=2.7 in c:\\users\\nicla\\documents\\proyects\\notebooks-understanding-dl\\notebooks-understanding-dl\\env\\lib\\site-packages (from matplotlib->mnist1d==0.0.2.post9) (2.9.0)\n",
            "Requirement already satisfied: charset-normalizer<4,>=2 in c:\\users\\nicla\\documents\\proyects\\notebooks-understanding-dl\\notebooks-understanding-dl\\env\\lib\\site-packages (from requests->mnist1d==0.0.2.post9) (3.3.2)\n",
            "Requirement already satisfied: idna<4,>=2.5 in c:\\users\\nicla\\documents\\proyects\\notebooks-understanding-dl\\notebooks-understanding-dl\\env\\lib\\site-packages (from requests->mnist1d==0.0.2.post9) (3.7)\n",
            "Requirement already satisfied: urllib3<3,>=1.21.1 in c:\\users\\nicla\\documents\\proyects\\notebooks-understanding-dl\\notebooks-understanding-dl\\env\\lib\\site-packages (from requests->mnist1d==0.0.2.post9) (2.2.2)\n",
            "Requirement already satisfied: certifi>=2017.4.17 in c:\\users\\nicla\\documents\\proyects\\notebooks-understanding-dl\\notebooks-understanding-dl\\env\\lib\\site-packages (from requests->mnist1d==0.0.2.post9) (2024.6.2)\n",
            "Requirement already satisfied: six>=1.5 in c:\\users\\nicla\\documents\\proyects\\notebooks-understanding-dl\\notebooks-understanding-dl\\env\\lib\\site-packages (from python-dateutil>=2.7->matplotlib->mnist1d==0.0.2.post9) (1.16.0)\n",
            "Note: you may need to restart the kernel to use updated packages.\n"
          ]
        },
        {
          "name": "stderr",
          "output_type": "stream",
          "text": [
            "  Running command git clone --filter=blob:none --quiet https://github.com/greydanus/mnist1d 'C:\\Users\\nicla\\AppData\\Local\\Temp\\pip-req-build-7a35owxd'\n"
          ]
        }
      ],
      "source": [
        "# Run this if you're in a Colab to install MNIST 1D repository\n",
        "%pip install git+https://github.com/greydanus/mnist1d"
      ]
    },
    {
      "cell_type": "code",
      "execution_count": 2,
      "metadata": {
        "id": "YrXWAH7sUWvU"
      },
      "outputs": [],
      "source": [
        "import numpy as np\n",
        "import os\n",
        "import torch, torch.nn as nn\n",
        "from torch.utils.data import TensorDataset, DataLoader\n",
        "from torch.optim.lr_scheduler import StepLR\n",
        "import matplotlib.pyplot as plt\n",
        "import mnist1d\n",
        "import random"
      ]
    },
    {
      "cell_type": "code",
      "execution_count": 3,
      "metadata": {
        "id": "twI72ZCrCt5z"
      },
      "outputs": [
        {
          "name": "stdout",
          "output_type": "stream",
          "text": [
            "Did or could not load data from ./mnist1d_data.pkl. Rebuilding dataset...\n",
            "Examples in training set: 4000\n",
            "Examples in test set: 1000\n",
            "Length of each example: 40\n"
          ]
        }
      ],
      "source": [
        "args = mnist1d.data.get_dataset_args()\n",
        "data = mnist1d.data.get_dataset(args, path='./mnist1d_data.pkl', download=False, regenerate=False)\n",
        "\n",
        "# The training and test input and outputs are in\n",
        "# data['x'], data['y'], data['x_test'], and data['y_test']\n",
        "print(\"Examples in training set: {}\".format(len(data['y'])))\n",
        "print(\"Examples in test set: {}\".format(len(data['y_test'])))\n",
        "print(\"Length of each example: {}\".format(data['x'].shape[-1]))"
      ]
    },
    {
      "cell_type": "code",
      "execution_count": 4,
      "metadata": {
        "id": "8bKADvLHbiV5"
      },
      "outputs": [
        {
          "name": "stdout",
          "output_type": "stream",
          "text": [
            "Train data: 4000 examples (columns), each of which has 40 dimensions (rows)\n",
            "Validation data: 1000 examples (columns), each of which has 40 dimensions (rows)\n"
          ]
        }
      ],
      "source": [
        "# Load in the data\n",
        "train_data_x = data['x'].transpose()\n",
        "train_data_y = data['y']\n",
        "val_data_x = data['x_test'].transpose()\n",
        "val_data_y = data['y_test']\n",
        "# Print out sizes\n",
        "print(\"Train data: %d examples (columns), each of which has %d dimensions (rows)\"%((train_data_x.shape[1],train_data_x.shape[0])))\n",
        "print(\"Validation data: %d examples (columns), each of which has %d dimensions (rows)\"%((val_data_x.shape[1],val_data_x.shape[0])))"
      ]
    },
    {
      "cell_type": "markdown",
      "metadata": {
        "id": "_sFvRDGrl4qe"
      },
      "source": [
        "Define the network"
      ]
    },
    {
      "cell_type": "code",
      "execution_count": 5,
      "metadata": {
        "id": "FslroPJJffrh"
      },
      "outputs": [],
      "source": [
        "# There are 40 input dimensions and 10 output dimensions for this data\n",
        "# The inputs correspond to the 40 offsets in the MNIST1D template.\n",
        "D_i = 40\n",
        "# The outputs correspond to the 10 digits\n",
        "D_o = 10\n",
        "\n",
        "\n",
        "# TODO Create a model with the following layers\n",
        "# 1. Convolutional layer, (input=length 40 and 1 channel, kernel size 3, stride 2, padding=\"valid\", 15 output channels )\n",
        "# 2. ReLU\n",
        "# 3. Convolutional layer, (input=length 19 and 15 channels, kernel size 3, stride 2, padding=\"valid\", 15 output channels )\n",
        "# 4. ReLU\n",
        "# 5. Convolutional layer, (input=length 9 and 15 channels, kernel size 3, stride 2, padding=\"valid\", 15 output channels)\n",
        "# 6. ReLU\n",
        "# 7. Flatten (converts 4x15) to length 60\n",
        "# 8. Linear layer (input size = 60, output size = 10)\n",
        "# References:\n",
        "# https://pytorch.org/docs/1.13/generated/torch.nn.Conv1d.html?highlight=conv1d#torch.nn.Conv1d\n",
        "# https://pytorch.org/docs/stable/generated/torch.nn.Flatten.html\n",
        "# https://pytorch.org/docs/1.13/generated/torch.nn.Linear.html?highlight=linear#torch.nn.Linear\n",
        "\n",
        "# NOTE THAT THE CONVOLUTIONAL LAYERS NEED TO TAKE THE NUMBER OF INPUT CHANNELS AS A PARAMETER\n",
        "# AND NOT THE INPUT SIZE.\n",
        "\n",
        "# Replace the following function:\n",
        "model = nn.Sequential(\n",
        "    nn.Conv1d(1, 15, kernel_size=3, stride=2, padding=0),\n",
        "    nn.ReLU(),\n",
        "    nn.Conv1d(15, 15, kernel_size=3, stride=2, padding=0),\n",
        "    nn.ReLU(),\n",
        "    nn.Conv1d(15, 15, kernel_size=3, stride=2, padding=0),\n",
        "    nn.ReLU(),\n",
        "    nn.Flatten(),\n",
        "    nn.Linear(60, 10)\n",
        ")"
      ]
    },
    {
      "cell_type": "code",
      "execution_count": 6,
      "metadata": {
        "id": "YgLaex1pfhqz"
      },
      "outputs": [],
      "source": [
        "# He initialization of weights\n",
        "def weights_init(layer_in):\n",
        "  if isinstance(layer_in, nn.Linear):\n",
        "    nn.init.kaiming_uniform_(layer_in.weight)\n",
        "    layer_in.bias.data.fill_(0.0)"
      ]
    },
    {
      "cell_type": "code",
      "execution_count": 7,
      "metadata": {
        "id": "NYw8I_3mmX5c"
      },
      "outputs": [
        {
          "name": "stdout",
          "output_type": "stream",
          "text": [
            "Epoch     0, train loss 2.074945, train error 77.35,  val loss 2.081580, percent error 78.70\n",
            "Epoch     1, train loss 1.608666, train error 64.97,  val loss 1.643802, percent error 68.40\n",
            "Epoch     2, train loss 1.396153, train error 56.45,  val loss 1.413261, percent error 58.10\n",
            "Epoch     3, train loss 1.396974, train error 58.85,  val loss 1.418761, percent error 59.20\n",
            "Epoch     4, train loss 1.187680, train error 48.22,  val loss 1.217709, percent error 52.30\n",
            "Epoch     5, train loss 1.196146, train error 46.70,  val loss 1.236223, percent error 51.10\n",
            "Epoch     6, train loss 1.072568, train error 43.35,  val loss 1.092167, percent error 45.30\n",
            "Epoch     7, train loss 0.989722, train error 41.25,  val loss 1.011841, percent error 43.40\n",
            "Epoch     8, train loss 0.829212, train error 32.65,  val loss 0.876466, percent error 35.20\n",
            "Epoch     9, train loss 0.742379, train error 29.60,  val loss 0.785381, percent error 31.10\n",
            "Epoch    10, train loss 0.723561, train error 29.78,  val loss 0.776691, percent error 32.50\n",
            "Epoch    11, train loss 0.648068, train error 26.60,  val loss 0.700391, percent error 27.00\n",
            "Epoch    12, train loss 0.632800, train error 25.60,  val loss 0.696283, percent error 26.80\n",
            "Epoch    13, train loss 0.524419, train error 20.20,  val loss 0.579757, percent error 23.20\n",
            "Epoch    14, train loss 0.516367, train error 19.32,  val loss 0.574805, percent error 21.40\n",
            "Epoch    15, train loss 0.376491, train error 14.25,  val loss 0.478783, percent error 17.70\n",
            "Epoch    16, train loss 0.357238, train error 13.50,  val loss 0.485113, percent error 17.10\n",
            "Epoch    17, train loss 0.330040, train error 12.28,  val loss 0.482276, percent error 17.80\n",
            "Epoch    18, train loss 0.320064, train error 12.47,  val loss 0.473562, percent error 16.70\n",
            "Epoch    19, train loss 0.397730, train error 13.70,  val loss 0.519324, percent error 17.30\n",
            "Epoch    20, train loss 0.250422, train error 9.22,  val loss 0.424894, percent error 14.40\n",
            "Epoch    21, train loss 0.225306, train error 7.97,  val loss 0.403360, percent error 13.80\n",
            "Epoch    22, train loss 0.213077, train error 7.68,  val loss 0.391871, percent error 12.00\n",
            "Epoch    23, train loss 0.187619, train error 6.47,  val loss 0.378889, percent error 12.50\n",
            "Epoch    24, train loss 0.223857, train error 7.88,  val loss 0.420453, percent error 14.50\n",
            "Epoch    25, train loss 0.174143, train error 6.10,  val loss 0.364225, percent error 11.30\n",
            "Epoch    26, train loss 0.168350, train error 5.57,  val loss 0.367560, percent error 11.20\n",
            "Epoch    27, train loss 0.165413, train error 5.53,  val loss 0.351974, percent error 11.10\n",
            "Epoch    28, train loss 0.149315, train error 4.93,  val loss 0.346406, percent error 11.00\n",
            "Epoch    29, train loss 0.144749, train error 4.82,  val loss 0.348631, percent error 10.70\n",
            "Epoch    30, train loss 0.158509, train error 5.32,  val loss 0.370246, percent error 11.10\n",
            "Epoch    31, train loss 0.143191, train error 4.80,  val loss 0.369203, percent error 11.00\n",
            "Epoch    32, train loss 0.129755, train error 4.30,  val loss 0.363647, percent error 10.80\n",
            "Epoch    33, train loss 0.131380, train error 4.47,  val loss 0.368060, percent error 10.10\n",
            "Epoch    34, train loss 0.109968, train error 3.22,  val loss 0.355512, percent error 9.70\n",
            "Epoch    35, train loss 0.110162, train error 3.78,  val loss 0.366440, percent error 9.60\n",
            "Epoch    36, train loss 0.106429, train error 3.38,  val loss 0.373507, percent error 10.60\n",
            "Epoch    37, train loss 0.108340, train error 3.75,  val loss 0.369301, percent error 10.20\n",
            "Epoch    38, train loss 0.096742, train error 3.22,  val loss 0.356108, percent error 10.30\n",
            "Epoch    39, train loss 0.096993, train error 3.05,  val loss 0.366852, percent error 10.00\n",
            "Epoch    40, train loss 0.082887, train error 2.40,  val loss 0.347947, percent error 9.30\n",
            "Epoch    41, train loss 0.081325, train error 2.45,  val loss 0.358358, percent error 9.00\n",
            "Epoch    42, train loss 0.074742, train error 2.15,  val loss 0.350017, percent error 8.40\n",
            "Epoch    43, train loss 0.072946, train error 2.00,  val loss 0.360238, percent error 8.80\n",
            "Epoch    44, train loss 0.073396, train error 2.22,  val loss 0.359539, percent error 9.00\n",
            "Epoch    45, train loss 0.071484, train error 2.18,  val loss 0.369578, percent error 9.00\n",
            "Epoch    46, train loss 0.067579, train error 1.57,  val loss 0.376917, percent error 9.60\n",
            "Epoch    47, train loss 0.070299, train error 1.88,  val loss 0.389890, percent error 9.40\n",
            "Epoch    48, train loss 0.065483, train error 1.68,  val loss 0.378590, percent error 9.30\n",
            "Epoch    49, train loss 0.065486, train error 1.88,  val loss 0.384581, percent error 10.00\n",
            "Epoch    50, train loss 0.068977, train error 2.05,  val loss 0.366262, percent error 8.80\n",
            "Epoch    51, train loss 0.066844, train error 1.93,  val loss 0.404955, percent error 10.20\n",
            "Epoch    52, train loss 0.059705, train error 1.45,  val loss 0.384180, percent error 9.20\n",
            "Epoch    53, train loss 0.063429, train error 1.75,  val loss 0.401828, percent error 9.70\n",
            "Epoch    54, train loss 0.056318, train error 1.35,  val loss 0.388234, percent error 9.10\n",
            "Epoch    55, train loss 0.052632, train error 1.12,  val loss 0.383639, percent error 8.90\n",
            "Epoch    56, train loss 0.057342, train error 1.47,  val loss 0.404245, percent error 9.50\n",
            "Epoch    57, train loss 0.057267, train error 1.68,  val loss 0.399255, percent error 9.60\n",
            "Epoch    58, train loss 0.049032, train error 1.10,  val loss 0.376579, percent error 8.50\n",
            "Epoch    59, train loss 0.049333, train error 1.07,  val loss 0.406331, percent error 9.50\n",
            "Epoch    60, train loss 0.046684, train error 0.90,  val loss 0.398134, percent error 8.90\n",
            "Epoch    61, train loss 0.045873, train error 0.90,  val loss 0.384367, percent error 8.60\n",
            "Epoch    62, train loss 0.044641, train error 0.93,  val loss 0.394117, percent error 9.10\n",
            "Epoch    63, train loss 0.044284, train error 0.85,  val loss 0.386717, percent error 8.60\n",
            "Epoch    64, train loss 0.043312, train error 0.80,  val loss 0.388015, percent error 8.70\n",
            "Epoch    65, train loss 0.042625, train error 0.80,  val loss 0.390120, percent error 9.00\n",
            "Epoch    66, train loss 0.042855, train error 0.85,  val loss 0.404506, percent error 9.40\n",
            "Epoch    67, train loss 0.043416, train error 1.03,  val loss 0.390982, percent error 8.90\n",
            "Epoch    68, train loss 0.041789, train error 0.85,  val loss 0.399947, percent error 8.70\n",
            "Epoch    69, train loss 0.041639, train error 0.82,  val loss 0.404786, percent error 9.40\n",
            "Epoch    70, train loss 0.041368, train error 0.75,  val loss 0.403370, percent error 8.80\n",
            "Epoch    71, train loss 0.040672, train error 0.82,  val loss 0.400908, percent error 8.70\n",
            "Epoch    72, train loss 0.040578, train error 0.82,  val loss 0.404144, percent error 8.60\n",
            "Epoch    73, train loss 0.041139, train error 0.90,  val loss 0.402710, percent error 8.40\n",
            "Epoch    74, train loss 0.038802, train error 0.75,  val loss 0.406744, percent error 8.60\n",
            "Epoch    75, train loss 0.038605, train error 0.72,  val loss 0.411079, percent error 9.10\n",
            "Epoch    76, train loss 0.038024, train error 0.70,  val loss 0.408489, percent error 8.60\n",
            "Epoch    77, train loss 0.036746, train error 0.68,  val loss 0.409463, percent error 8.90\n",
            "Epoch    78, train loss 0.036138, train error 0.57,  val loss 0.407933, percent error 9.10\n",
            "Epoch    79, train loss 0.035713, train error 0.60,  val loss 0.407497, percent error 9.00\n",
            "Epoch    80, train loss 0.035275, train error 0.57,  val loss 0.410829, percent error 9.00\n",
            "Epoch    81, train loss 0.035892, train error 0.62,  val loss 0.415345, percent error 9.20\n",
            "Epoch    82, train loss 0.034892, train error 0.62,  val loss 0.410736, percent error 8.90\n",
            "Epoch    83, train loss 0.034795, train error 0.57,  val loss 0.415651, percent error 9.20\n",
            "Epoch    84, train loss 0.034704, train error 0.53,  val loss 0.413287, percent error 9.10\n",
            "Epoch    85, train loss 0.035113, train error 0.60,  val loss 0.416302, percent error 9.30\n",
            "Epoch    86, train loss 0.033975, train error 0.57,  val loss 0.414157, percent error 8.90\n",
            "Epoch    87, train loss 0.033775, train error 0.50,  val loss 0.414214, percent error 8.90\n",
            "Epoch    88, train loss 0.033727, train error 0.50,  val loss 0.413547, percent error 8.90\n",
            "Epoch    89, train loss 0.033563, train error 0.50,  val loss 0.415010, percent error 9.00\n",
            "Epoch    90, train loss 0.033340, train error 0.45,  val loss 0.416738, percent error 9.00\n",
            "Epoch    91, train loss 0.033154, train error 0.50,  val loss 0.419437, percent error 9.00\n",
            "Epoch    92, train loss 0.033185, train error 0.57,  val loss 0.424546, percent error 9.30\n",
            "Epoch    93, train loss 0.033360, train error 0.55,  val loss 0.422087, percent error 9.20\n",
            "Epoch    94, train loss 0.032803, train error 0.43,  val loss 0.419652, percent error 8.70\n",
            "Epoch    95, train loss 0.032471, train error 0.50,  val loss 0.421995, percent error 8.90\n",
            "Epoch    96, train loss 0.032070, train error 0.53,  val loss 0.421438, percent error 9.00\n",
            "Epoch    97, train loss 0.031901, train error 0.38,  val loss 0.423397, percent error 8.90\n",
            "Epoch    98, train loss 0.031890, train error 0.47,  val loss 0.422069, percent error 9.00\n",
            "Epoch    99, train loss 0.031772, train error 0.45,  val loss 0.427190, percent error 9.10\n"
          ]
        },
        {
          "data": {
            "image/png": "[encoded data removed]",
            "text/plain": [
              "<Figure size 640x480 with 1 Axes>"
            ]
          },
          "metadata": {},
          "output_type": "display_data"
        }
      ],
      "source": [
        "# choose cross entropy loss function (equation 5.24 in the loss notes)\n",
        "loss_function = nn.CrossEntropyLoss()\n",
        "# construct SGD optimizer and initialize learning rate and momentum\n",
        "optimizer = torch.optim.SGD(model.parameters(), lr = 0.05, momentum=0.9)\n",
        "# object that decreases learning rate by half every 20 epochs\n",
        "scheduler = StepLR(optimizer, step_size=20, gamma=0.5)\n",
        "# create 100 dummy data points and store in data loader class\n",
        "x_train = torch.tensor(train_data_x.transpose().astype('float32'))\n",
        "y_train = torch.tensor(train_data_y.astype('long')).long()\n",
        "x_val= torch.tensor(val_data_x.transpose().astype('float32'))\n",
        "y_val = torch.tensor(val_data_y.astype('long')).long()\n",
        "\n",
        "# load the data into a class that creates the batches\n",
        "data_loader = DataLoader(TensorDataset(x_train,y_train), batch_size=100, shuffle=True, worker_init_fn=np.random.seed(1))\n",
        "\n",
        "# Initialize model weights\n",
        "model.apply(weights_init)\n",
        "\n",
        "# loop over the dataset n_epoch times\n",
        "n_epoch = 100\n",
        "# store the loss and the % correct at each epoch\n",
        "losses_train = np.zeros((n_epoch))\n",
        "errors_train = np.zeros((n_epoch))\n",
        "losses_val = np.zeros((n_epoch))\n",
        "errors_val = np.zeros((n_epoch))\n",
        "\n",
        "for epoch in range(n_epoch):\n",
        "  # loop over batches\n",
        "  for i, data in enumerate(data_loader):\n",
        "    # retrieve inputs and labels for this batch\n",
        "    x_batch, y_batch = data\n",
        "    # zero the parameter gradients\n",
        "    optimizer.zero_grad()\n",
        "    # forward pass -- calculate model output\n",
        "    pred = model(x_batch[:,None,:])\n",
        "    # compute the loss\n",
        "    loss = loss_function(pred, y_batch)\n",
        "    # backward pass\n",
        "    loss.backward()\n",
        "    # SGD update\n",
        "    optimizer.step()\n",
        "\n",
        "  # Run whole dataset to get statistics -- normally wouldn't do this\n",
        "  pred_train = model(x_train[:,None,:])\n",
        "  pred_val = model(x_val[:,None,:])\n",
        "  _, predicted_train_class = torch.max(pred_train.data, 1)\n",
        "  _, predicted_val_class = torch.max(pred_val.data, 1)\n",
        "  errors_train[epoch] = 100 - 100 * (predicted_train_class == y_train).float().sum() / len(y_train)\n",
        "  errors_val[epoch]= 100 - 100 * (predicted_val_class == y_val).float().sum() / len(y_val)\n",
        "  losses_train[epoch] = loss_function(pred_train, y_train).item()\n",
        "  losses_val[epoch]= loss_function(pred_val, y_val).item()\n",
        "  print(f'Epoch {epoch:5d}, train loss {losses_train[epoch]:.6f}, train error {errors_train[epoch]:3.2f},  val loss {losses_val[epoch]:.6f}, percent error {errors_val[epoch]:3.2f}')\n",
        "\n",
        "  # tell scheduler to consider updating learning rate\n",
        "  scheduler.step()\n",
        "\n",
        "# Plot the results\n",
        "fig, ax = plt.subplots()\n",
        "ax.plot(errors_train,'r-',label='train')\n",
        "ax.plot(errors_val,'b-',label='validation')\n",
        "ax.set_ylim(0,100); ax.set_xlim(0,n_epoch)\n",
        "ax.set_xlabel('Epoch'); ax.set_ylabel('Error')\n",
        "ax.set_title('Part I: Validation Result %3.2f'%(errors_val[-1]))\n",
        "ax.legend()\n",
        "plt.show()"
      ]
    },
    {
      "cell_type": "code",
      "execution_count": null,
      "metadata": {},
      "outputs": [],
      "source": []
    }
  ],
  "metadata": {
    "colab": {
      "authorship_tag": "ABX9TyNb46PJB/CC1pcHGfjpUUZg",
      "include_colab_link": true,
      "provenance": []
    },
    "kernelspec": {
      "display_name": "Python 3",
      "name": "python3"
    },
    "language_info": {
      "codemirror_mode": {
        "name": "ipython",
        "version": 3
      },
      "file_extension": ".py",
      "mimetype": "text/x-python",
      "name": "python",
      "nbconvert_exporter": "python",
      "pygments_lexer": "ipython3",
      "version": "3.12.4"
    }
  },
  "nbformat": 4,
  "nbformat_minor": 0
}
